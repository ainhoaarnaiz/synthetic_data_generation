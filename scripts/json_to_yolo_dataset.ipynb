{
 "cells": [
  {
   "cell_type": "code",
   "execution_count": 7,
   "id": "f11e1340",
   "metadata": {},
   "outputs": [],
   "source": [
    "import os\n",
    "import json\n",
    "import cv2\n",
    "import shutil\n",
    "\n",
    "def convert_to_yolo(box, img_w, img_h):\n",
    "    # box: [x, y, w, h] in pixel coordinates\n",
    "    x, y, w, h = box\n",
    "    x_center = (x + w / 2) / img_w\n",
    "    y_center = (y + h / 2) / img_h\n",
    "    w_norm = w / img_w\n",
    "    h_norm = h / img_h\n",
    "    return x_center, y_center, w_norm, h_norm\n",
    "\n",
    "def piece_to_class(piece):\n",
    "    # Map piece symbol to class index (customize as needed)\n",
    "    mapping = {\n",
    "        'K': 0, 'Q': 1, 'R': 2, 'B': 3, 'N': 4, 'P': 5,\n",
    "        'k': 6, 'q': 7, 'r': 8, 'b': 9, 'n': 10, 'p': 11\n",
    "    }\n",
    "    return mapping.get(piece, -1)\n",
    "\n",
    "def create_yolo_dataset(render_dir, out_dir):\n",
    "    images_dir = os.path.join(out_dir, 'images')\n",
    "    labels_dir = os.path.join(out_dir, 'labels')\n",
    "    os.makedirs(images_dir, exist_ok=True)\n",
    "    os.makedirs(labels_dir, exist_ok=True)\n",
    "    for fname in os.listdir(render_dir):\n",
    "        if not fname.endswith('.json'):\n",
    "            continue\n",
    "        json_path = os.path.join(render_dir, fname)\n",
    "        img_name = fname.replace('.json', '.png')\n",
    "        img_path = os.path.join(render_dir, img_name)\n",
    "        label_path = os.path.join(labels_dir, fname.replace('.json', '.txt'))\n",
    "        img_out_path = os.path.join(images_dir, img_name)\n",
    "\n",
    "        with open(json_path, 'r') as f:\n",
    "            data = json.load(f)\n",
    "        img = cv2.imread(img_path)\n",
    "        img_h, img_w = img.shape[:2]\n",
    "\n",
    "        # Copy image to images folder\n",
    "        shutil.copy2(img_path, img_out_path)\n",
    "\n",
    "        with open(label_path, 'w') as f_out:\n",
    "            for piece in data['pieces']:\n",
    "                box = piece['box']\n",
    "                if box is None:\n",
    "                    continue\n",
    "                class_id = piece_to_class(piece['piece'])\n",
    "                if class_id == -1:\n",
    "                    continue\n",
    "                x_center, y_center, w_norm, h_norm = convert_to_yolo(box, img_w, img_h)\n",
    "                f_out.write(f\"{class_id} {x_center:.6f} {y_center:.6f} {w_norm:.6f} {h_norm:.6f}\\n\")"
   ]
  },
  {
   "cell_type": "code",
   "execution_count": 8,
   "id": "0e78fb3b",
   "metadata": {},
   "outputs": [],
   "source": [
    "script_dir = os.getcwd()\n",
    "render_path = os.path.join(script_dir, \"..\", \"render\")\n",
    "output_path = os.path.join(script_dir, \"..\", \"dataset\")\n",
    "create_yolo_dataset(render_path, output_path)\n",
    "# Output will be in dataset/images and dataset/labels"
   ]
  }
 ],
 "metadata": {
  "kernelspec": {
   "display_name": "yolov8_env",
   "language": "python",
   "name": "python3"
  },
  "language_info": {
   "codemirror_mode": {
    "name": "ipython",
    "version": 3
   },
   "file_extension": ".py",
   "mimetype": "text/x-python",
   "name": "python",
   "nbconvert_exporter": "python",
   "pygments_lexer": "ipython3",
   "version": "3.10.16"
  }
 },
 "nbformat": 4,
 "nbformat_minor": 5
}
